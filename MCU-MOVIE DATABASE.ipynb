{
 "cells": [
  {
   "cell_type": "markdown",
   "id": "7933a611-4445-4615-a7d5-81e06f5b3625",
   "metadata": {},
   "source": [
    "# MCU MOVIE DATABASE"
   ]
  },
  {
   "cell_type": "code",
   "execution_count": 1,
   "id": "e2d4ef71-714f-4d89-9283-1fbfac1afa95",
   "metadata": {},
   "outputs": [],
   "source": [
    "import sqlite3\n",
    "import pandas as pd"
   ]
  },
  {
   "cell_type": "code",
   "execution_count": 2,
   "id": "5268f21a-b9b1-47aa-bccd-f2cd861597bb",
   "metadata": {},
   "outputs": [
    {
     "name": "stdout",
     "output_type": "stream",
     "text": [
      "Database and table created successfully.\n"
     ]
    }
   ],
   "source": [
    "# Connect to SQLite database (creates 'MCU.db' if it doesn't exist)\n",
    "Movie_database = sqlite3.connect(\"MCU.db\")\n",
    "\n",
    "# Create a cursor object\n",
    "cursor = Movie_database.cursor()\n",
    "\n",
    "# Create the 'MCU_Movies' table\n",
    "cursor.execute(\"\"\"\n",
    "CREATE TABLE IF NOT EXISTS MCU_Movies (\n",
    "    movie_id INTEGER PRIMARY KEY,\n",
    "    title TEXT NOT NULL,\n",
    "    year INTEGER,\n",
    "    score REAL\n",
    ");\n",
    "\"\"\")\n",
    "\n",
    "# Commit the transaction\n",
    "Movie_database.commit()\n",
    "\n",
    "print(\"Database and table created successfully.\")"
   ]
  },
  {
   "cell_type": "code",
   "execution_count": 3,
   "id": "b79f0e41-2ef6-4d83-afe8-9c9785f36ef5",
   "metadata": {},
   "outputs": [
    {
     "name": "stdout",
     "output_type": "stream",
     "text": [
      "Movie data inserted (ignoring duplicates).\n"
     ]
    }
   ],
   "source": [
    "# Insert data into the MCU_Movies table\n",
    "# Connect to the database\n",
    "Movie_database = sqlite3.connect(\"MCU.db\")\n",
    "cursor = Movie_database.cursor()\n",
    "\n",
    "# Movie data to be inserted\n",
    "movie_data = [\n",
    "    (1001, 'Iron Man', 2008, 7.9),\n",
    "    (1002, 'The Incredible Hulk', 2008, 6.7),\n",
    "    (1003, 'Iron Man 2', 2010, 7.0),\n",
    "    (1004, 'Thor', 2011, 7.0),\n",
    "    (1005, 'Captain America: The First Avenger', 2011, 6.9),\n",
    "    (1006, 'The Avengers', 2012, 8.0),\n",
    "    (1007, 'Iron Man 3', 2013, 7.2),\n",
    "    (1008, 'Thor: The Dark World', 2013, 6.9),\n",
    "    (1009, 'Captain America: The Winter Soldier', 2014, 7.7),\n",
    "    (1010, 'Guardians of the Galaxy', 2014, 8.0),\n",
    "    (1011, 'Avengers: Age of Ultron', 2015, 7.3),\n",
    "    (1012, 'Ant-Man', 2015, 7.3),\n",
    "    (1013, 'Captain America: Civil War', 2016, 7.8),\n",
    "    (1014, 'Doctor Strange', 2016, 7.5),\n",
    "    (1015, 'Guardians of the Galaxy Vol. 2', 2017, 7.6),\n",
    "    (1016, 'Spider-Man: Homecoming', 2017, 7.4),\n",
    "    (1017, 'Thor: Ragnarok', 2017, 7.9),\n",
    "    (1018, 'Black Panther', 2018, 7.3),\n",
    "    (1019, 'Avengers: Infinity War', 2018, 8.4),\n",
    "    (1020, 'Ant-Man and The Wasp', 2018, 7.1),\n",
    "    (1021, 'Captain Marvel', 2019, 6.9),\n",
    "    (1022, 'Avengers: Endgame', 2019, 8.4)\n",
    "]\n",
    "\n",
    "# Insert data with 'INSERT OR IGNORE'incase of duplicates\n",
    "cursor.executemany(\"INSERT OR IGNORE INTO MCU_Movies (movie_id, title, year, score) VALUES (?, ?, ?, ?);\", movie_data)\n",
    "\n",
    "# Commit the changes so they are saved\n",
    "Movie_database.commit()\n",
    "\n",
    "print(\"Movie data inserted (ignoring duplicates).\")"
   ]
  },
  {
   "cell_type": "code",
   "execution_count": 4,
   "id": "68b741bc-a16e-4aa1-99eb-c35a1904427a",
   "metadata": {},
   "outputs": [
    {
     "name": "stdout",
     "output_type": "stream",
     "text": [
      "    score\n",
      "0     7.9\n",
      "1     6.7\n",
      "2     7.0\n",
      "3     7.0\n",
      "4     6.9\n",
      "5     8.0\n",
      "6     7.2\n",
      "7     6.9\n",
      "8     7.7\n",
      "9     8.0\n",
      "10    7.3\n",
      "11    7.3\n",
      "12    7.8\n",
      "13    7.5\n",
      "14    7.6\n",
      "15    7.4\n",
      "16    7.9\n",
      "17    7.3\n",
      "18    8.4\n",
      "19    7.1\n",
      "20    6.9\n",
      "21    8.4\n"
     ]
    }
   ],
   "source": [
    "# Load into DataFrame\n",
    "df = pd.read_sql_query(\"SELECT score FROM MCU_Movies\", Movie_database)\n",
    "\n",
    "# Show DataFrame\n",
    "print(df)"
   ]
  },
  {
   "cell_type": "code",
   "execution_count": 5,
   "id": "4c24129b-4cac-410e-893f-b6e6667946b9",
   "metadata": {},
   "outputs": [
    {
     "name": "stdout",
     "output_type": "stream",
     "text": [
      "    year                                title\n",
      "0   2008                             Iron Man\n",
      "1   2008                  The Incredible Hulk\n",
      "2   2010                           Iron Man 2\n",
      "3   2011                                 Thor\n",
      "4   2011   Captain America: The First Avenger\n",
      "5   2012                         The Avengers\n",
      "6   2013                           Iron Man 3\n",
      "7   2013                 Thor: The Dark World\n",
      "8   2014  Captain America: The Winter Soldier\n",
      "9   2014              Guardians of the Galaxy\n",
      "10  2015              Avengers: Age of Ultron\n",
      "11  2015                              Ant-Man\n",
      "12  2016           Captain America: Civil War\n",
      "13  2016                       Doctor Strange\n",
      "14  2017       Guardians of the Galaxy Vol. 2\n",
      "15  2017               Spider-Man: Homecoming\n",
      "16  2017                       Thor: Ragnarok\n",
      "17  2018                        Black Panther\n",
      "18  2018               Avengers: Infinity War\n",
      "19  2018                 Ant-Man and The Wasp\n",
      "20  2019                       Captain Marvel\n",
      "21  2019                    Avengers: Endgame\n"
     ]
    }
   ],
   "source": [
    "# Load into DataFrame\n",
    "df = pd.read_sql_query(\"SELECT year, title FROM MCU_Movies ORDER BY year\", Movie_database)\n",
    "\n",
    "# Show DataFrame\n",
    "print(df)"
   ]
  },
  {
   "cell_type": "code",
   "execution_count": 6,
   "id": "7574b047-9b8c-4dca-b49b-8b11b1259994",
   "metadata": {},
   "outputs": [
    {
     "name": "stdout",
     "output_type": "stream",
     "text": [
      "                                  title  year\n",
      "0                Avengers: Infinity War  2018\n",
      "1                     Avengers: Endgame  2019\n",
      "2                          The Avengers  2012\n",
      "3               Guardians of the Galaxy  2014\n",
      "4                              Iron Man  2008\n",
      "5                        Thor: Ragnarok  2017\n",
      "6            Captain America: Civil War  2016\n",
      "7   Captain America: The Winter Soldier  2014\n",
      "8        Guardians of the Galaxy Vol. 2  2017\n",
      "9                        Doctor Strange  2016\n",
      "10               Spider-Man: Homecoming  2017\n",
      "11              Avengers: Age of Ultron  2015\n",
      "12                              Ant-Man  2015\n",
      "13                        Black Panther  2018\n",
      "14                           Iron Man 3  2013\n",
      "15                 Ant-Man and The Wasp  2018\n",
      "16                           Iron Man 2  2010\n",
      "17                                 Thor  2011\n",
      "18   Captain America: The First Avenger  2011\n",
      "19                 Thor: The Dark World  2013\n",
      "20                       Captain Marvel  2019\n",
      "21                  The Incredible Hulk  2008\n"
     ]
    }
   ],
   "source": [
    "# Load into DataFrame\n",
    "df = pd.read_sql_query(\"SELECT title, year FROM MCU_Movies ORDER BY score DESC\", Movie_database)\n",
    "\n",
    "# Show DataFrame\n",
    "print(df)"
   ]
  },
  {
   "cell_type": "code",
   "execution_count": 7,
   "id": "edeb222e-5c92-41b4-b673-c4cf7986a3ba",
   "metadata": {},
   "outputs": [
    {
     "name": "stdout",
     "output_type": "stream",
     "text": [
      "    movie_id                                title  year  score\n",
      "0       1001                             Iron Man  2008    7.9\n",
      "1       1002                  The Incredible Hulk  2008    6.7\n",
      "2       1003                           Iron Man 2  2010    7.0\n",
      "3       1004                                 Thor  2011    7.0\n",
      "4       1005   Captain America: The First Avenger  2011    6.9\n",
      "5       1006                         The Avengers  2012    8.0\n",
      "6       1007                           Iron Man 3  2013    7.2\n",
      "7       1008                 Thor: The Dark World  2013    6.9\n",
      "8       1009  Captain America: The Winter Soldier  2014    7.7\n",
      "9       1010              Guardians of the Galaxy  2014    8.0\n",
      "10      1011              Avengers: Age of Ultron  2015    7.3\n",
      "11      1012                              Ant-Man  2015    7.3\n",
      "12      1013           Captain America: Civil War  2016    7.8\n",
      "13      1014                       Doctor Strange  2016    7.5\n",
      "14      1015       Guardians of the Galaxy Vol. 2  2017    7.6\n",
      "15      1016               Spider-Man: Homecoming  2017    7.4\n",
      "16      1017                       Thor: Ragnarok  2017    7.9\n",
      "17      1018                        Black Panther  2018    7.3\n",
      "18      1019               Avengers: Infinity War  2018    8.4\n",
      "19      1020                 Ant-Man and The Wasp  2018    7.1\n",
      "20      1021                       Captain Marvel  2019    6.9\n",
      "21      1022                    Avengers: Endgame  2019    8.4\n"
     ]
    }
   ],
   "source": [
    "# Load the entire MCU_Movies table into a DataFrame\n",
    "df = pd.read_sql_query(\"SELECT * FROM MCU_Movies;\", Movie_database)\n",
    "\n",
    "# Show the DataFrame\n",
    "print(df)"
   ]
  },
  {
   "cell_type": "code",
   "execution_count": 8,
   "id": "c317ba9b-9dbc-499c-8fb7-be3ec39c5267",
   "metadata": {},
   "outputs": [
    {
     "name": "stdout",
     "output_type": "stream",
     "text": [
      "MCU_Actors table successfully created.\n"
     ]
    }
   ],
   "source": [
    "# Enable foreign key constraints\n",
    "cursor.execute(\"PRAGMA foreign_keys = ON;\")\n",
    "\n",
    "# Create the MCU_Actors table\n",
    "cursor.execute(\"\"\"\n",
    "CREATE TABLE IF NOT EXISTS MCU_Actors (\n",
    "    actor_id INTEGER PRIMARY KEY,\n",
    "    actor_name TEXT NOT NULL,\n",
    "    movie_id INTEGER,\n",
    "    FOREIGN KEY (movie_id) REFERENCES MCU_Movies(movie_id)\n",
    ");\n",
    "\"\"\")\n",
    "\n",
    "# Commit changes to the database\n",
    "Movie_database.commit()\n",
    "\n",
    "print(\"MCU_Actors table successfully created.\")"
   ]
  },
  {
   "cell_type": "code",
   "execution_count": 9,
   "id": "3ff89b33-8e96-4222-9b3b-f020578c1709",
   "metadata": {},
   "outputs": [
    {
     "name": "stdout",
     "output_type": "stream",
     "text": [
      "Actor data inserted into MCU_Actors successfully.\n"
     ]
    }
   ],
   "source": [
    "# Enable foreign key constraints (again, always do this for foreign keys in SQLite)\n",
    "cursor.execute(\"PRAGMA foreign_keys = ON;\")\n",
    "\n",
    "# List of Actors data\n",
    "actor_data = [\n",
    "    (1, 'Robert Downey Jr.', 1001), \n",
    "    (2, 'Chris Evans', 1005),\n",
    "    (3, 'Mark Ruffalo', 1006),\n",
    "    (4, 'Chris Hemsworth', 1004), \n",
    "    (5, 'Scarlett Johansson', 1006), \n",
    "    (6, 'Jeremy Renner', 1006),\n",
    "    (7, 'Tom Hiddleston', 1004),\n",
    "    (8, 'Clark Gregg', 1001),\n",
    "    (9, 'Paul Rudd', 1012),\n",
    "    (10, 'Benedict Cumberbatch', 1014)\n",
    "]\n",
    "\n",
    "# Insert data (use INSERT OR IGNORE to prevent duplicate errors if rerun)\n",
    "cursor.executemany(\"\"\"\n",
    "INSERT OR IGNORE INTO MCU_Actors (actor_id, actor_name, movie_id)\n",
    "VALUES (?, ?, ?);\n",
    "\"\"\", actor_data)\n",
    "\n",
    "# Commit and close\n",
    "Movie_database.commit()\n",
    "\n",
    "print(\"Actor data inserted into MCU_Actors successfully.\")"
   ]
  },
  {
   "cell_type": "code",
   "execution_count": 10,
   "id": "b8072f3b-9034-4351-971e-04faf602f3d7",
   "metadata": {},
   "outputs": [
    {
     "name": "stdout",
     "output_type": "stream",
     "text": [
      "   actor_id            actor_name  movie_id\n",
      "0         1     Robert Downey Jr.      1001\n",
      "1         2           Chris Evans      1005\n",
      "2         3          Mark Ruffalo      1006\n",
      "3         4       Chris Hemsworth      1004\n",
      "4         5    Scarlett Johansson      1006\n",
      "5         6         Jeremy Renner      1006\n",
      "6         7        Tom Hiddleston      1004\n",
      "7         8           Clark Gregg      1001\n",
      "8         9             Paul Rudd      1012\n",
      "9        10  Benedict Cumberbatch      1014\n"
     ]
    }
   ],
   "source": [
    "# Load the entire MCU_Movies table into a DataFrame\n",
    "df = pd.read_sql_query(\"SELECT * FROM MCU_Actors;\", Movie_database)\n",
    "\n",
    "# Show the DataFrame\n",
    "print(df)"
   ]
  },
  {
   "cell_type": "code",
   "execution_count": 11,
   "id": "58c0e50b-707f-4c36-93ed-3776fe74a718",
   "metadata": {},
   "outputs": [
    {
     "name": "stdout",
     "output_type": "stream",
     "text": [
      "\n",
      "-- MCU_Movies --\n",
      "CREATE TABLE MCU_Movies (\n",
      "    movie_id INTEGER PRIMARY KEY,\n",
      "    title TEXT NOT NULL,\n",
      "    year INTEGER,\n",
      "    score REAL\n",
      ")\n",
      "\n",
      "-- MCU_Actors --\n",
      "CREATE TABLE MCU_Actors (\n",
      "    actor_id INTEGER PRIMARY KEY,\n",
      "    actor_name TEXT NOT NULL,\n",
      "    movie_id INTEGER,\n",
      "    FOREIGN KEY (movie_id) REFERENCES MCU_Movies(movie_id)\n",
      ")\n"
     ]
    }
   ],
   "source": [
    "# Visualize our schema\n",
    "# Show all table creation SQL\n",
    "cursor.execute(\"SELECT name, sql FROM sqlite_master WHERE type='table';\")\n",
    "tables = cursor.fetchall()\n",
    "\n",
    "for name, sql in tables:\n",
    "    print(f\"\\n-- {name} --\\n{sql}\")"
   ]
  },
  {
   "cell_type": "code",
   "execution_count": 12,
   "id": "f04cace2-7266-4468-8bad-7b044a6bf809",
   "metadata": {},
   "outputs": [
    {
     "name": "stdout",
     "output_type": "stream",
     "text": [
      "   movie_id                               title  year  score  \\\n",
      "0      1001                            Iron Man  2008    7.9   \n",
      "1      1005  Captain America: The First Avenger  2011    6.9   \n",
      "2      1006                        The Avengers  2012    8.0   \n",
      "3      1004                                Thor  2011    7.0   \n",
      "4      1006                        The Avengers  2012    8.0   \n",
      "5      1006                        The Avengers  2012    8.0   \n",
      "6      1004                                Thor  2011    7.0   \n",
      "7      1001                            Iron Man  2008    7.9   \n",
      "8      1012                             Ant-Man  2015    7.3   \n",
      "9      1014                      Doctor Strange  2016    7.5   \n",
      "\n",
      "             actor_name  \n",
      "0     Robert Downey Jr.  \n",
      "1           Chris Evans  \n",
      "2          Mark Ruffalo  \n",
      "3       Chris Hemsworth  \n",
      "4    Scarlett Johansson  \n",
      "5         Jeremy Renner  \n",
      "6        Tom Hiddleston  \n",
      "7           Clark Gregg  \n",
      "8             Paul Rudd  \n",
      "9  Benedict Cumberbatch  \n"
     ]
    }
   ],
   "source": [
    "# Define and execute the JOIN query\n",
    "query = \"\"\"\n",
    "SELECT \n",
    "    MCU_Movies.movie_id,\n",
    "    MCU_Movies.title,\n",
    "    MCU_Movies.year,\n",
    "    MCU_Movies.score,\n",
    "    MCU_Actors.actor_name\n",
    "FROM \n",
    "    MCU_Movies \n",
    "JOIN \n",
    "    MCU_Actors \n",
    "ON \n",
    "    MCU_Movies.movie_id = MCU_Actors.movie_id;\n",
    "\"\"\"\n",
    "\n",
    "# Load the results into a DataFrame\n",
    "df = pd.read_sql_query(query, Movie_database)\n",
    "\n",
    "# Display the DataFrame\n",
    "print(df)\n",
    "\n",
    "# Close the connection\n",
    "Movie_database.close()"
   ]
  },
  {
   "cell_type": "code",
   "execution_count": null,
   "id": "e2f8e01a-c05a-4a53-8c98-f39d53bf0866",
   "metadata": {},
   "outputs": [],
   "source": []
  }
 ],
 "metadata": {
  "kernelspec": {
   "display_name": "Python 3 (ipykernel)",
   "language": "python",
   "name": "python3"
  },
  "language_info": {
   "codemirror_mode": {
    "name": "ipython",
    "version": 3
   },
   "file_extension": ".py",
   "mimetype": "text/x-python",
   "name": "python",
   "nbconvert_exporter": "python",
   "pygments_lexer": "ipython3",
   "version": "3.13.1"
  }
 },
 "nbformat": 4,
 "nbformat_minor": 5
}
